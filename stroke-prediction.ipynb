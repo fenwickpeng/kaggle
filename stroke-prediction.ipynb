{
 "cells": [
  {
   "cell_type": "markdown",
   "id": "739e3072",
   "metadata": {
    "papermill": {
     "duration": 0.005859,
     "end_time": "2022-11-05T11:51:19.188355",
     "exception": false,
     "start_time": "2022-11-05T11:51:19.182496",
     "status": "completed"
    },
    "tags": []
   },
   "source": [
    "**Loading Libraries**"
   ]
  },
  {
   "cell_type": "code",
   "execution_count": 1,
   "id": "0cb0786c",
   "metadata": {
    "execution": {
     "iopub.execute_input": "2022-11-05T11:51:19.199377Z",
     "iopub.status.busy": "2022-11-05T11:51:19.198739Z",
     "iopub.status.idle": "2022-11-05T11:51:22.515458Z",
     "shell.execute_reply": "2022-11-05T11:51:22.514035Z"
    },
    "papermill": {
     "duration": 3.325779,
     "end_time": "2022-11-05T11:51:22.518481",
     "exception": false,
     "start_time": "2022-11-05T11:51:19.192702",
     "status": "completed"
    },
    "tags": []
   },
   "outputs": [
    {
     "data": {
      "text/html": [
       "<style type='text/css'>\n",
       ".datatable table.frame { margin-bottom: 0; }\n",
       ".datatable table.frame thead { border-bottom: none; }\n",
       ".datatable table.frame tr.coltypes td {  color: #FFFFFF;  line-height: 6px;  padding: 0 0.5em;}\n",
       ".datatable .bool    { background: #DDDD99; }\n",
       ".datatable .object  { background: #565656; }\n",
       ".datatable .int     { background: #5D9E5D; }\n",
       ".datatable .float   { background: #4040CC; }\n",
       ".datatable .str     { background: #CC4040; }\n",
       ".datatable .time    { background: #40CC40; }\n",
       ".datatable .row_index {  background: var(--jp-border-color3);  border-right: 1px solid var(--jp-border-color0);  color: var(--jp-ui-font-color3);  font-size: 9px;}\n",
       ".datatable .frame tbody td { text-align: left; }\n",
       ".datatable .frame tr.coltypes .row_index {  background: var(--jp-border-color0);}\n",
       ".datatable th:nth-child(2) { padding-left: 12px; }\n",
       ".datatable .hellipsis {  color: var(--jp-cell-editor-border-color);}\n",
       ".datatable .vellipsis {  background: var(--jp-layout-color0);  color: var(--jp-cell-editor-border-color);}\n",
       ".datatable .na {  color: var(--jp-cell-editor-border-color);  font-size: 80%;}\n",
       ".datatable .sp {  opacity: 0.25;}\n",
       ".datatable .footer { font-size: 9px; }\n",
       ".datatable .frame_dimensions {  background: var(--jp-border-color3);  border-top: 1px solid var(--jp-border-color0);  color: var(--jp-ui-font-color3);  display: inline-block;  opacity: 0.6;  padding: 1px 10px 1px 5px;}\n",
       "</style>\n"
      ],
      "text/plain": [
       "<IPython.core.display.HTML object>"
      ]
     },
     "metadata": {},
     "output_type": "display_data"
    }
   ],
   "source": [
    "import pandas as pd\n",
    "import numpy as np\n",
    "import statsmodels.api as sm\n",
    "import seaborn as sns\n",
    "import matplotlib.pyplot as plt\n",
    "from sklearn.preprocessing import scale, StandardScaler, RobustScaler\n",
    "from sklearn.model_selection import train_test_split, GridSearchCV, cross_val_score\n",
    "from sklearn.metrics import confusion_matrix, accuracy_score, mean_squared_error, r2_score, roc_auc_score, roc_curve, classification_report\n",
    "from sklearn.linear_model import LogisticRegression\n",
    "from sklearn.neighbors import KNeighborsClassifier\n",
    "from sklearn.svm import SVC\n",
    "from sklearn.neural_network import MLPClassifier\n",
    "from sklearn.tree import DecisionTreeClassifier\n",
    "from sklearn.ensemble import RandomForestClassifier\n",
    "from sklearn.ensemble import GradientBoostingClassifier\n",
    "from lightgbm import LGBMClassifier\n",
    "from sklearn.model_selection import KFold"
   ]
  },
  {
   "cell_type": "markdown",
   "id": "831e805e",
   "metadata": {
    "papermill": {
     "duration": 0.004184,
     "end_time": "2022-11-05T11:51:22.527514",
     "exception": false,
     "start_time": "2022-11-05T11:51:22.523330",
     "status": "completed"
    },
    "tags": []
   },
   "source": [
    "**Reading and checking data**"
   ]
  },
  {
   "cell_type": "code",
   "execution_count": 2,
   "id": "92f84ab1",
   "metadata": {
    "execution": {
     "iopub.execute_input": "2022-11-05T11:51:22.539232Z",
     "iopub.status.busy": "2022-11-05T11:51:22.538770Z",
     "iopub.status.idle": "2022-11-05T11:51:22.593863Z",
     "shell.execute_reply": "2022-11-05T11:51:22.592554Z"
    },
    "papermill": {
     "duration": 0.064253,
     "end_time": "2022-11-05T11:51:22.596345",
     "exception": false,
     "start_time": "2022-11-05T11:51:22.532092",
     "status": "completed"
    },
    "tags": []
   },
   "outputs": [
    {
     "data": {
      "text/html": [
       "<div>\n",
       "<style scoped>\n",
       "    .dataframe tbody tr th:only-of-type {\n",
       "        vertical-align: middle;\n",
       "    }\n",
       "\n",
       "    .dataframe tbody tr th {\n",
       "        vertical-align: top;\n",
       "    }\n",
       "\n",
       "    .dataframe thead th {\n",
       "        text-align: right;\n",
       "    }\n",
       "</style>\n",
       "<table border=\"1\" class=\"dataframe\">\n",
       "  <thead>\n",
       "    <tr style=\"text-align: right;\">\n",
       "      <th></th>\n",
       "      <th>id</th>\n",
       "      <th>gender</th>\n",
       "      <th>age</th>\n",
       "      <th>hypertension</th>\n",
       "      <th>heart_disease</th>\n",
       "      <th>ever_married</th>\n",
       "      <th>work_type</th>\n",
       "      <th>Residence_type</th>\n",
       "      <th>avg_glucose_level</th>\n",
       "      <th>bmi</th>\n",
       "      <th>smoking_status</th>\n",
       "      <th>stroke</th>\n",
       "    </tr>\n",
       "  </thead>\n",
       "  <tbody>\n",
       "    <tr>\n",
       "      <th>0</th>\n",
       "      <td>9046</td>\n",
       "      <td>Male</td>\n",
       "      <td>67.0</td>\n",
       "      <td>0</td>\n",
       "      <td>1</td>\n",
       "      <td>Yes</td>\n",
       "      <td>Private</td>\n",
       "      <td>Urban</td>\n",
       "      <td>228.69</td>\n",
       "      <td>36.6</td>\n",
       "      <td>formerly smoked</td>\n",
       "      <td>1</td>\n",
       "    </tr>\n",
       "    <tr>\n",
       "      <th>1</th>\n",
       "      <td>51676</td>\n",
       "      <td>Female</td>\n",
       "      <td>61.0</td>\n",
       "      <td>0</td>\n",
       "      <td>0</td>\n",
       "      <td>Yes</td>\n",
       "      <td>Self-employed</td>\n",
       "      <td>Rural</td>\n",
       "      <td>202.21</td>\n",
       "      <td>NaN</td>\n",
       "      <td>never smoked</td>\n",
       "      <td>1</td>\n",
       "    </tr>\n",
       "    <tr>\n",
       "      <th>2</th>\n",
       "      <td>31112</td>\n",
       "      <td>Male</td>\n",
       "      <td>80.0</td>\n",
       "      <td>0</td>\n",
       "      <td>1</td>\n",
       "      <td>Yes</td>\n",
       "      <td>Private</td>\n",
       "      <td>Rural</td>\n",
       "      <td>105.92</td>\n",
       "      <td>32.5</td>\n",
       "      <td>never smoked</td>\n",
       "      <td>1</td>\n",
       "    </tr>\n",
       "    <tr>\n",
       "      <th>3</th>\n",
       "      <td>60182</td>\n",
       "      <td>Female</td>\n",
       "      <td>49.0</td>\n",
       "      <td>0</td>\n",
       "      <td>0</td>\n",
       "      <td>Yes</td>\n",
       "      <td>Private</td>\n",
       "      <td>Urban</td>\n",
       "      <td>171.23</td>\n",
       "      <td>34.4</td>\n",
       "      <td>smokes</td>\n",
       "      <td>1</td>\n",
       "    </tr>\n",
       "    <tr>\n",
       "      <th>4</th>\n",
       "      <td>1665</td>\n",
       "      <td>Female</td>\n",
       "      <td>79.0</td>\n",
       "      <td>1</td>\n",
       "      <td>0</td>\n",
       "      <td>Yes</td>\n",
       "      <td>Self-employed</td>\n",
       "      <td>Rural</td>\n",
       "      <td>174.12</td>\n",
       "      <td>24.0</td>\n",
       "      <td>never smoked</td>\n",
       "      <td>1</td>\n",
       "    </tr>\n",
       "  </tbody>\n",
       "</table>\n",
       "</div>"
      ],
      "text/plain": [
       "      id  gender   age  hypertension  heart_disease ever_married  \\\n",
       "0   9046    Male  67.0             0              1          Yes   \n",
       "1  51676  Female  61.0             0              0          Yes   \n",
       "2  31112    Male  80.0             0              1          Yes   \n",
       "3  60182  Female  49.0             0              0          Yes   \n",
       "4   1665  Female  79.0             1              0          Yes   \n",
       "\n",
       "       work_type Residence_type  avg_glucose_level   bmi   smoking_status  \\\n",
       "0        Private          Urban             228.69  36.6  formerly smoked   \n",
       "1  Self-employed          Rural             202.21   NaN     never smoked   \n",
       "2        Private          Rural             105.92  32.5     never smoked   \n",
       "3        Private          Urban             171.23  34.4           smokes   \n",
       "4  Self-employed          Rural             174.12  24.0     never smoked   \n",
       "\n",
       "   stroke  \n",
       "0       1  \n",
       "1       1  \n",
       "2       1  \n",
       "3       1  \n",
       "4       1  "
      ]
     },
     "execution_count": 2,
     "metadata": {},
     "output_type": "execute_result"
    }
   ],
   "source": [
    "df = pd.read_csv(\"../input/stroke-prediction-dataset/healthcare-dataset-stroke-data.csv\")\n",
    "df.head()"
   ]
  },
  {
   "cell_type": "markdown",
   "id": "79076b9e",
   "metadata": {
    "papermill": {
     "duration": 0.004917,
     "end_time": "2022-11-05T11:51:22.606166",
     "exception": false,
     "start_time": "2022-11-05T11:51:22.601249",
     "status": "completed"
    },
    "tags": []
   },
   "source": [
    "**Handling of null values**"
   ]
  },
  {
   "cell_type": "code",
   "execution_count": 3,
   "id": "55d0979e",
   "metadata": {
    "execution": {
     "iopub.execute_input": "2022-11-05T11:51:22.618355Z",
     "iopub.status.busy": "2022-11-05T11:51:22.617276Z",
     "iopub.status.idle": "2022-11-05T11:51:22.631442Z",
     "shell.execute_reply": "2022-11-05T11:51:22.629678Z"
    },
    "papermill": {
     "duration": 0.023051,
     "end_time": "2022-11-05T11:51:22.634302",
     "exception": false,
     "start_time": "2022-11-05T11:51:22.611251",
     "status": "completed"
    },
    "tags": []
   },
   "outputs": [
    {
     "data": {
      "text/plain": [
       "bmi    201\n",
       "dtype: int64"
      ]
     },
     "execution_count": 3,
     "metadata": {},
     "output_type": "execute_result"
    }
   ],
   "source": [
    "null_value = df.isna().sum().sort_values(ascending=False)\n",
    "null_value[null_value > 0]"
   ]
  },
  {
   "cell_type": "code",
   "execution_count": 4,
   "id": "90567f0d",
   "metadata": {
    "execution": {
     "iopub.execute_input": "2022-11-05T11:51:22.646373Z",
     "iopub.status.busy": "2022-11-05T11:51:22.645968Z",
     "iopub.status.idle": "2022-11-05T11:51:22.664403Z",
     "shell.execute_reply": "2022-11-05T11:51:22.663270Z"
    },
    "papermill": {
     "duration": 0.027673,
     "end_time": "2022-11-05T11:51:22.666891",
     "exception": false,
     "start_time": "2022-11-05T11:51:22.639218",
     "status": "completed"
    },
    "tags": []
   },
   "outputs": [
    {
     "data": {
      "text/plain": [
       "Series([], dtype: int64)"
      ]
     },
     "execution_count": 4,
     "metadata": {},
     "output_type": "execute_result"
    }
   ],
   "source": [
    "df['bmi'] = df['bmi'].fillna(df['bmi'].median())\n",
    "null_value = df.isna().sum().sort_values(ascending=False)\n",
    "null_value[null_value > 0]"
   ]
  },
  {
   "cell_type": "markdown",
   "id": "420d6f5d",
   "metadata": {
    "papermill": {
     "duration": 0.00449,
     "end_time": "2022-11-05T11:51:22.676227",
     "exception": false,
     "start_time": "2022-11-05T11:51:22.671737",
     "status": "completed"
    },
    "tags": []
   },
   "source": [
    "**Convert Non-numerical to Numbers**"
   ]
  },
  {
   "cell_type": "code",
   "execution_count": 5,
   "id": "6355137c",
   "metadata": {
    "execution": {
     "iopub.execute_input": "2022-11-05T11:51:22.688355Z",
     "iopub.status.busy": "2022-11-05T11:51:22.687321Z",
     "iopub.status.idle": "2022-11-05T11:51:22.716890Z",
     "shell.execute_reply": "2022-11-05T11:51:22.715609Z"
    },
    "papermill": {
     "duration": 0.038336,
     "end_time": "2022-11-05T11:51:22.719474",
     "exception": false,
     "start_time": "2022-11-05T11:51:22.681138",
     "status": "completed"
    },
    "tags": []
   },
   "outputs": [
    {
     "data": {
      "text/html": [
       "<div>\n",
       "<style scoped>\n",
       "    .dataframe tbody tr th:only-of-type {\n",
       "        vertical-align: middle;\n",
       "    }\n",
       "\n",
       "    .dataframe tbody tr th {\n",
       "        vertical-align: top;\n",
       "    }\n",
       "\n",
       "    .dataframe thead th {\n",
       "        text-align: right;\n",
       "    }\n",
       "</style>\n",
       "<table border=\"1\" class=\"dataframe\">\n",
       "  <thead>\n",
       "    <tr style=\"text-align: right;\">\n",
       "      <th></th>\n",
       "      <th>id</th>\n",
       "      <th>gender</th>\n",
       "      <th>age</th>\n",
       "      <th>hypertension</th>\n",
       "      <th>heart_disease</th>\n",
       "      <th>ever_married</th>\n",
       "      <th>work_type</th>\n",
       "      <th>Residence_type</th>\n",
       "      <th>avg_glucose_level</th>\n",
       "      <th>bmi</th>\n",
       "      <th>smoking_status</th>\n",
       "      <th>stroke</th>\n",
       "    </tr>\n",
       "  </thead>\n",
       "  <tbody>\n",
       "    <tr>\n",
       "      <th>0</th>\n",
       "      <td>9046</td>\n",
       "      <td>1</td>\n",
       "      <td>67.0</td>\n",
       "      <td>0</td>\n",
       "      <td>1</td>\n",
       "      <td>1</td>\n",
       "      <td>2</td>\n",
       "      <td>1</td>\n",
       "      <td>228.69</td>\n",
       "      <td>36.6</td>\n",
       "      <td>1</td>\n",
       "      <td>1</td>\n",
       "    </tr>\n",
       "    <tr>\n",
       "      <th>1</th>\n",
       "      <td>51676</td>\n",
       "      <td>0</td>\n",
       "      <td>61.0</td>\n",
       "      <td>0</td>\n",
       "      <td>0</td>\n",
       "      <td>1</td>\n",
       "      <td>3</td>\n",
       "      <td>0</td>\n",
       "      <td>202.21</td>\n",
       "      <td>28.1</td>\n",
       "      <td>2</td>\n",
       "      <td>1</td>\n",
       "    </tr>\n",
       "    <tr>\n",
       "      <th>2</th>\n",
       "      <td>31112</td>\n",
       "      <td>1</td>\n",
       "      <td>80.0</td>\n",
       "      <td>0</td>\n",
       "      <td>1</td>\n",
       "      <td>1</td>\n",
       "      <td>2</td>\n",
       "      <td>0</td>\n",
       "      <td>105.92</td>\n",
       "      <td>32.5</td>\n",
       "      <td>2</td>\n",
       "      <td>1</td>\n",
       "    </tr>\n",
       "    <tr>\n",
       "      <th>3</th>\n",
       "      <td>60182</td>\n",
       "      <td>0</td>\n",
       "      <td>49.0</td>\n",
       "      <td>0</td>\n",
       "      <td>0</td>\n",
       "      <td>1</td>\n",
       "      <td>2</td>\n",
       "      <td>1</td>\n",
       "      <td>171.23</td>\n",
       "      <td>34.4</td>\n",
       "      <td>3</td>\n",
       "      <td>1</td>\n",
       "    </tr>\n",
       "    <tr>\n",
       "      <th>4</th>\n",
       "      <td>1665</td>\n",
       "      <td>0</td>\n",
       "      <td>79.0</td>\n",
       "      <td>1</td>\n",
       "      <td>0</td>\n",
       "      <td>1</td>\n",
       "      <td>3</td>\n",
       "      <td>0</td>\n",
       "      <td>174.12</td>\n",
       "      <td>24.0</td>\n",
       "      <td>2</td>\n",
       "      <td>1</td>\n",
       "    </tr>\n",
       "  </tbody>\n",
       "</table>\n",
       "</div>"
      ],
      "text/plain": [
       "      id  gender   age  hypertension  heart_disease  ever_married  work_type  \\\n",
       "0   9046       1  67.0             0              1             1          2   \n",
       "1  51676       0  61.0             0              0             1          3   \n",
       "2  31112       1  80.0             0              1             1          2   \n",
       "3  60182       0  49.0             0              0             1          2   \n",
       "4   1665       0  79.0             1              0             1          3   \n",
       "\n",
       "   Residence_type  avg_glucose_level   bmi  smoking_status  stroke  \n",
       "0               1             228.69  36.6               1       1  \n",
       "1               0             202.21  28.1               2       1  \n",
       "2               0             105.92  32.5               2       1  \n",
       "3               1             171.23  34.4               3       1  \n",
       "4               0             174.12  24.0               2       1  "
      ]
     },
     "execution_count": 5,
     "metadata": {},
     "output_type": "execute_result"
    }
   ],
   "source": [
    "col_names = ['gender', 'ever_married', 'work_type', 'Residence_type', 'smoking_status']\n",
    "for col in col_names:\n",
    "    df[col] = df[col].astype('category').cat.codes\n",
    "\n",
    "df.head()"
   ]
  },
  {
   "cell_type": "markdown",
   "id": "8e468aea",
   "metadata": {
    "papermill": {
     "duration": 0.004818,
     "end_time": "2022-11-05T11:51:22.729632",
     "exception": false,
     "start_time": "2022-11-05T11:51:22.724814",
     "status": "completed"
    },
    "tags": []
   },
   "source": [
    "**Split Data**"
   ]
  },
  {
   "cell_type": "code",
   "execution_count": 6,
   "id": "0b9f63f1",
   "metadata": {
    "execution": {
     "iopub.execute_input": "2022-11-05T11:51:22.741837Z",
     "iopub.status.busy": "2022-11-05T11:51:22.741432Z",
     "iopub.status.idle": "2022-11-05T11:51:22.756995Z",
     "shell.execute_reply": "2022-11-05T11:51:22.755859Z"
    },
    "papermill": {
     "duration": 0.024999,
     "end_time": "2022-11-05T11:51:22.759759",
     "exception": false,
     "start_time": "2022-11-05T11:51:22.734760",
     "status": "completed"
    },
    "tags": []
   },
   "outputs": [],
   "source": [
    "y = df['stroke']\n",
    "X = df.drop(['stroke', 'id'], axis=1)\n",
    "X_train, X_test, y_train, y_test = train_test_split(X, y, random_state=8888, stratify = df['stroke'])\n",
    "cols = X.columns\n",
    "index = X.index"
   ]
  },
  {
   "cell_type": "markdown",
   "id": "2f1f8f7e",
   "metadata": {
    "papermill": {
     "duration": 0.004894,
     "end_time": "2022-11-05T11:51:22.769838",
     "exception": false,
     "start_time": "2022-11-05T11:51:22.764944",
     "status": "completed"
    },
    "tags": []
   },
   "source": [
    "**Scaling**"
   ]
  },
  {
   "cell_type": "code",
   "execution_count": 7,
   "id": "a8b11959",
   "metadata": {
    "execution": {
     "iopub.execute_input": "2022-11-05T11:51:22.781712Z",
     "iopub.status.busy": "2022-11-05T11:51:22.781324Z",
     "iopub.status.idle": "2022-11-05T11:51:22.797668Z",
     "shell.execute_reply": "2022-11-05T11:51:22.796391Z"
    },
    "papermill": {
     "duration": 0.02535,
     "end_time": "2022-11-05T11:51:22.800395",
     "exception": false,
     "start_time": "2022-11-05T11:51:22.775045",
     "status": "completed"
    },
    "tags": []
   },
   "outputs": [],
   "source": [
    "transformer = RobustScaler().fit(X)\n",
    "X = transformer.transform(X)\n",
    "X = pd.DataFrame(X, columns = cols, index = index)"
   ]
  },
  {
   "cell_type": "markdown",
   "id": "1759c679",
   "metadata": {
    "papermill": {
     "duration": 0.004937,
     "end_time": "2022-11-05T11:51:22.810529",
     "exception": false,
     "start_time": "2022-11-05T11:51:22.805592",
     "status": "completed"
    },
    "tags": []
   },
   "source": [
    "**Modeling**"
   ]
  },
  {
   "cell_type": "code",
   "execution_count": 8,
   "id": "53ef861d",
   "metadata": {
    "execution": {
     "iopub.execute_input": "2022-11-05T11:51:22.823354Z",
     "iopub.status.busy": "2022-11-05T11:51:22.822934Z",
     "iopub.status.idle": "2022-11-05T11:51:22.830967Z",
     "shell.execute_reply": "2022-11-05T11:51:22.829701Z"
    },
    "papermill": {
     "duration": 0.017691,
     "end_time": "2022-11-05T11:51:22.833265",
     "exception": false,
     "start_time": "2022-11-05T11:51:22.815574",
     "status": "completed"
    },
    "tags": []
   },
   "outputs": [],
   "source": [
    "models = []\n",
    "\n",
    "models.append(('LR', LogisticRegression(random_state = 8888)))\n",
    "models.append(('KNN', KNeighborsClassifier()))\n",
    "models.append(('CART', DecisionTreeClassifier(random_state = 8888)))\n",
    "models.append(('RF', RandomForestClassifier(random_state = 8888)))\n",
    "models.append(('SVM', SVC(gamma='auto', random_state = 8888)))\n",
    "models.append(('XGB', GradientBoostingClassifier(random_state = 8888)))\n",
    "models.append((\"LightGBM\", LGBMClassifier(random_state = 8888)))\n",
    "\n",
    "# evaluate each model in turn\n",
    "results = []\n",
    "names = []"
   ]
  },
  {
   "cell_type": "code",
   "execution_count": 9,
   "id": "cecfa6d7",
   "metadata": {
    "execution": {
     "iopub.execute_input": "2022-11-05T11:51:22.845650Z",
     "iopub.status.busy": "2022-11-05T11:51:22.845232Z",
     "iopub.status.idle": "2022-11-05T11:51:40.047375Z",
     "shell.execute_reply": "2022-11-05T11:51:40.046259Z"
    },
    "papermill": {
     "duration": 17.211219,
     "end_time": "2022-11-05T11:51:40.049922",
     "exception": false,
     "start_time": "2022-11-05T11:51:22.838703",
     "status": "completed"
    },
    "tags": []
   },
   "outputs": [
    {
     "name": "stdout",
     "output_type": "stream",
     "text": [
      "LR: 0.951272 (0.000587)\n",
      "KNN: 0.947162 (0.002144)\n",
      "CART: 0.912133 (0.008184)\n",
      "RF: 0.949902 (0.001298)\n",
      "SVM: 0.951272 (0.000587)\n",
      "XGB: 0.949119 (0.001750)\n",
      "LightGBM: 0.946184 (0.004733)\n"
     ]
    },
    {
     "data": {
      "image/png": "[encoded data removed]",
      "text/plain": [
       "<Figure size 1080x720 with 1 Axes>"
      ]
     },
     "metadata": {
      "needs_background": "light"
     },
     "output_type": "display_data"
    }
   ],
   "source": [
    "for name, model in models:\n",
    "        kfold = KFold(n_splits = 10, shuffle=True, random_state = 8888)\n",
    "        cv_results = cross_val_score(model, X, y, cv = 10, scoring= \"accuracy\")\n",
    "        results.append(cv_results)\n",
    "        names.append(name)\n",
    "        msg = \"%s: %f (%f)\" % (name, cv_results.mean(), cv_results.std())\n",
    "        print(msg)\n",
    "        \n",
    "# boxplot algorithm comparison\n",
    "fig = plt.figure(figsize=(15,10))\n",
    "fig.suptitle('Algorithm Comparison')\n",
    "ax = fig.add_subplot(111)\n",
    "plt.boxplot(results)\n",
    "ax.set_xticklabels(names)\n",
    "plt.show()"
   ]
  }
 ],
 "metadata": {
  "kernelspec": {
   "display_name": "Python 3",
   "language": "python",
   "name": "python3"
  },
  "language_info": {
   "codemirror_mode": {
    "name": "ipython",
    "version": 3
   },
   "file_extension": ".py",
   "mimetype": "text/x-python",
   "name": "python",
   "nbconvert_exporter": "python",
   "pygments_lexer": "ipython3",
   "version": "3.7.12"
  },
  "papermill": {
   "default_parameters": {},
   "duration": 30.773537,
   "end_time": "2022-11-05T11:51:40.878487",
   "environment_variables": {},
   "exception": null,
   "input_path": "__notebook__.ipynb",
   "output_path": "__notebook__.ipynb",
   "parameters": {},
   "start_time": "2022-11-05T11:51:10.104950",
   "version": "2.3.4"
  }
 },
 "nbformat": 4,
 "nbformat_minor": 5
}
