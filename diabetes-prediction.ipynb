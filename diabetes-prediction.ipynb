{
 "cells": [
  {
   "cell_type": "markdown",
   "id": "7d3a7be2",
   "metadata": {
    "papermill": {
     "duration": 0.004051,
     "end_time": "2022-11-05T11:50:07.901667",
     "exception": false,
     "start_time": "2022-11-05T11:50:07.897616",
     "status": "completed"
    },
    "tags": []
   },
   "source": [
    "**Load Libraries**"
   ]
  },
  {
   "cell_type": "code",
   "execution_count": 1,
   "id": "412b2be1",
   "metadata": {
    "execution": {
     "iopub.execute_input": "2022-11-05T11:50:07.909903Z",
     "iopub.status.busy": "2022-11-05T11:50:07.909380Z",
     "iopub.status.idle": "2022-11-05T11:50:11.113087Z",
     "shell.execute_reply": "2022-11-05T11:50:11.111745Z"
    },
    "papermill": {
     "duration": 3.210907,
     "end_time": "2022-11-05T11:50:11.115860",
     "exception": false,
     "start_time": "2022-11-05T11:50:07.904953",
     "status": "completed"
    },
    "tags": []
   },
   "outputs": [
    {
     "data": {
      "text/html": [
       "<style type='text/css'>\n",
       ".datatable table.frame { margin-bottom: 0; }\n",
       ".datatable table.frame thead { border-bottom: none; }\n",
       ".datatable table.frame tr.coltypes td {  color: #FFFFFF;  line-height: 6px;  padding: 0 0.5em;}\n",
       ".datatable .bool    { background: #DDDD99; }\n",
       ".datatable .object  { background: #565656; }\n",
       ".datatable .int     { background: #5D9E5D; }\n",
       ".datatable .float   { background: #4040CC; }\n",
       ".datatable .str     { background: #CC4040; }\n",
       ".datatable .time    { background: #40CC40; }\n",
       ".datatable .row_index {  background: var(--jp-border-color3);  border-right: 1px solid var(--jp-border-color0);  color: var(--jp-ui-font-color3);  font-size: 9px;}\n",
       ".datatable .frame tbody td { text-align: left; }\n",
       ".datatable .frame tr.coltypes .row_index {  background: var(--jp-border-color0);}\n",
       ".datatable th:nth-child(2) { padding-left: 12px; }\n",
       ".datatable .hellipsis {  color: var(--jp-cell-editor-border-color);}\n",
       ".datatable .vellipsis {  background: var(--jp-layout-color0);  color: var(--jp-cell-editor-border-color);}\n",
       ".datatable .na {  color: var(--jp-cell-editor-border-color);  font-size: 80%;}\n",
       ".datatable .sp {  opacity: 0.25;}\n",
       ".datatable .footer { font-size: 9px; }\n",
       ".datatable .frame_dimensions {  background: var(--jp-border-color3);  border-top: 1px solid var(--jp-border-color0);  color: var(--jp-ui-font-color3);  display: inline-block;  opacity: 0.6;  padding: 1px 10px 1px 5px;}\n",
       "</style>\n"
      ],
      "text/plain": [
       "<IPython.core.display.HTML object>"
      ]
     },
     "metadata": {},
     "output_type": "display_data"
    }
   ],
   "source": [
    "import pandas as pd\n",
    "import numpy as np\n",
    "import statsmodels.api as sm\n",
    "import seaborn as sns\n",
    "import matplotlib.pyplot as plt\n",
    "from sklearn.preprocessing import scale, StandardScaler, RobustScaler\n",
    "from sklearn.model_selection import train_test_split, GridSearchCV, cross_val_score\n",
    "from sklearn.metrics import confusion_matrix, accuracy_score, mean_squared_error, r2_score, roc_auc_score, roc_curve, classification_report\n",
    "from sklearn.linear_model import LogisticRegression\n",
    "from sklearn.neighbors import KNeighborsClassifier\n",
    "from sklearn.svm import SVC\n",
    "from sklearn.neural_network import MLPClassifier\n",
    "from sklearn.tree import DecisionTreeClassifier\n",
    "from sklearn.ensemble import RandomForestClassifier\n",
    "from sklearn.ensemble import GradientBoostingClassifier\n",
    "from lightgbm import LGBMClassifier\n",
    "from sklearn.model_selection import KFold"
   ]
  },
  {
   "cell_type": "markdown",
   "id": "f0c3ca94",
   "metadata": {
    "papermill": {
     "duration": 0.003335,
     "end_time": "2022-11-05T11:50:11.122980",
     "exception": false,
     "start_time": "2022-11-05T11:50:11.119645",
     "status": "completed"
    },
    "tags": []
   },
   "source": [
    "**Reading and checking data**"
   ]
  },
  {
   "cell_type": "code",
   "execution_count": 2,
   "id": "176d66e0",
   "metadata": {
    "execution": {
     "iopub.execute_input": "2022-11-05T11:50:11.131629Z",
     "iopub.status.busy": "2022-11-05T11:50:11.131328Z",
     "iopub.status.idle": "2022-11-05T11:50:11.166462Z",
     "shell.execute_reply": "2022-11-05T11:50:11.164942Z"
    },
    "papermill": {
     "duration": 0.042323,
     "end_time": "2022-11-05T11:50:11.168847",
     "exception": false,
     "start_time": "2022-11-05T11:50:11.126524",
     "status": "completed"
    },
    "tags": []
   },
   "outputs": [
    {
     "data": {
      "text/html": [
       "<div>\n",
       "<style scoped>\n",
       "    .dataframe tbody tr th:only-of-type {\n",
       "        vertical-align: middle;\n",
       "    }\n",
       "\n",
       "    .dataframe tbody tr th {\n",
       "        vertical-align: top;\n",
       "    }\n",
       "\n",
       "    .dataframe thead th {\n",
       "        text-align: right;\n",
       "    }\n",
       "</style>\n",
       "<table border=\"1\" class=\"dataframe\">\n",
       "  <thead>\n",
       "    <tr style=\"text-align: right;\">\n",
       "      <th></th>\n",
       "      <th>Pregnancies</th>\n",
       "      <th>Glucose</th>\n",
       "      <th>BloodPressure</th>\n",
       "      <th>SkinThickness</th>\n",
       "      <th>Insulin</th>\n",
       "      <th>BMI</th>\n",
       "      <th>DiabetesPedigreeFunction</th>\n",
       "      <th>Age</th>\n",
       "      <th>Outcome</th>\n",
       "    </tr>\n",
       "  </thead>\n",
       "  <tbody>\n",
       "    <tr>\n",
       "      <th>0</th>\n",
       "      <td>6</td>\n",
       "      <td>148</td>\n",
       "      <td>72</td>\n",
       "      <td>35</td>\n",
       "      <td>0</td>\n",
       "      <td>33.6</td>\n",
       "      <td>0.627</td>\n",
       "      <td>50</td>\n",
       "      <td>1</td>\n",
       "    </tr>\n",
       "    <tr>\n",
       "      <th>1</th>\n",
       "      <td>1</td>\n",
       "      <td>85</td>\n",
       "      <td>66</td>\n",
       "      <td>29</td>\n",
       "      <td>0</td>\n",
       "      <td>26.6</td>\n",
       "      <td>0.351</td>\n",
       "      <td>31</td>\n",
       "      <td>0</td>\n",
       "    </tr>\n",
       "    <tr>\n",
       "      <th>2</th>\n",
       "      <td>8</td>\n",
       "      <td>183</td>\n",
       "      <td>64</td>\n",
       "      <td>0</td>\n",
       "      <td>0</td>\n",
       "      <td>23.3</td>\n",
       "      <td>0.672</td>\n",
       "      <td>32</td>\n",
       "      <td>1</td>\n",
       "    </tr>\n",
       "    <tr>\n",
       "      <th>3</th>\n",
       "      <td>1</td>\n",
       "      <td>89</td>\n",
       "      <td>66</td>\n",
       "      <td>23</td>\n",
       "      <td>94</td>\n",
       "      <td>28.1</td>\n",
       "      <td>0.167</td>\n",
       "      <td>21</td>\n",
       "      <td>0</td>\n",
       "    </tr>\n",
       "    <tr>\n",
       "      <th>4</th>\n",
       "      <td>0</td>\n",
       "      <td>137</td>\n",
       "      <td>40</td>\n",
       "      <td>35</td>\n",
       "      <td>168</td>\n",
       "      <td>43.1</td>\n",
       "      <td>2.288</td>\n",
       "      <td>33</td>\n",
       "      <td>1</td>\n",
       "    </tr>\n",
       "  </tbody>\n",
       "</table>\n",
       "</div>"
      ],
      "text/plain": [
       "   Pregnancies  Glucose  BloodPressure  SkinThickness  Insulin   BMI  \\\n",
       "0            6      148             72             35        0  33.6   \n",
       "1            1       85             66             29        0  26.6   \n",
       "2            8      183             64              0        0  23.3   \n",
       "3            1       89             66             23       94  28.1   \n",
       "4            0      137             40             35      168  43.1   \n",
       "\n",
       "   DiabetesPedigreeFunction  Age  Outcome  \n",
       "0                     0.627   50        1  \n",
       "1                     0.351   31        0  \n",
       "2                     0.672   32        1  \n",
       "3                     0.167   21        0  \n",
       "4                     2.288   33        1  "
      ]
     },
     "execution_count": 2,
     "metadata": {},
     "output_type": "execute_result"
    }
   ],
   "source": [
    "df = pd.read_csv(\"../input/diabetes-data-set/diabetes.csv\")\n",
    "df.head()"
   ]
  },
  {
   "cell_type": "markdown",
   "id": "d0cb65c0",
   "metadata": {
    "papermill": {
     "duration": 0.003439,
     "end_time": "2022-11-05T11:50:11.176096",
     "exception": false,
     "start_time": "2022-11-05T11:50:11.172657",
     "status": "completed"
    },
    "tags": []
   },
   "source": [
    "**Calculate zero values**"
   ]
  },
  {
   "cell_type": "code",
   "execution_count": 3,
   "id": "0b05dad0",
   "metadata": {
    "execution": {
     "iopub.execute_input": "2022-11-05T11:50:11.184962Z",
     "iopub.status.busy": "2022-11-05T11:50:11.184614Z",
     "iopub.status.idle": "2022-11-05T11:50:11.208383Z",
     "shell.execute_reply": "2022-11-05T11:50:11.207173Z"
    },
    "papermill": {
     "duration": 0.030543,
     "end_time": "2022-11-05T11:50:11.210321",
     "exception": false,
     "start_time": "2022-11-05T11:50:11.179778",
     "status": "completed"
    },
    "tags": []
   },
   "outputs": [
    {
     "data": {
      "text/plain": [
       "Pregnancies                   0\n",
       "Glucose                       5\n",
       "BloodPressure                35\n",
       "SkinThickness               227\n",
       "Insulin                     374\n",
       "BMI                          11\n",
       "DiabetesPedigreeFunction      0\n",
       "Age                           0\n",
       "Outcome                       0\n",
       "dtype: int64"
      ]
     },
     "execution_count": 3,
     "metadata": {},
     "output_type": "execute_result"
    }
   ],
   "source": [
    "df[['Glucose','BloodPressure','SkinThickness','Insulin','BMI']] = df[['Glucose','BloodPressure','SkinThickness','Insulin','BMI']].replace(0, np.NaN)\n",
    "df.isnull().sum()"
   ]
  },
  {
   "cell_type": "markdown",
   "id": "af09ce6f",
   "metadata": {
    "papermill": {
     "duration": 0.003204,
     "end_time": "2022-11-05T11:50:11.217209",
     "exception": false,
     "start_time": "2022-11-05T11:50:11.214005",
     "status": "completed"
    },
    "tags": []
   },
   "source": [
    "**Replace zero values with mean based on outcome**"
   ]
  },
  {
   "cell_type": "code",
   "execution_count": 4,
   "id": "170dec90",
   "metadata": {
    "execution": {
     "iopub.execute_input": "2022-11-05T11:50:11.225927Z",
     "iopub.status.busy": "2022-11-05T11:50:11.225400Z",
     "iopub.status.idle": "2022-11-05T11:50:11.284408Z",
     "shell.execute_reply": "2022-11-05T11:50:11.283763Z"
    },
    "papermill": {
     "duration": 0.065978,
     "end_time": "2022-11-05T11:50:11.286580",
     "exception": false,
     "start_time": "2022-11-05T11:50:11.220602",
     "status": "completed"
    },
    "tags": []
   },
   "outputs": [],
   "source": [
    "columns = df.columns\n",
    "columns = columns.drop([\"Outcome\", \"Pregnancies\"])\n",
    "\n",
    "for col in columns:\n",
    "    for i in range(2):\n",
    "        df.loc[(df['Outcome'] == i ) & (df[col].isnull()), col] = df[df[col].notnull()][[col, 'Outcome']].groupby(['Outcome'])[[col]].median().reset_index()[col][i]"
   ]
  },
  {
   "cell_type": "markdown",
   "id": "3262d288",
   "metadata": {
    "papermill": {
     "duration": 0.003486,
     "end_time": "2022-11-05T11:50:11.293894",
     "exception": false,
     "start_time": "2022-11-05T11:50:11.290408",
     "status": "completed"
    },
    "tags": []
   },
   "source": [
    "**Split data**"
   ]
  },
  {
   "cell_type": "code",
   "execution_count": 5,
   "id": "03c6eac2",
   "metadata": {
    "execution": {
     "iopub.execute_input": "2022-11-05T11:50:11.303550Z",
     "iopub.status.busy": "2022-11-05T11:50:11.303019Z",
     "iopub.status.idle": "2022-11-05T11:50:11.311801Z",
     "shell.execute_reply": "2022-11-05T11:50:11.310864Z"
    },
    "papermill": {
     "duration": 0.016147,
     "end_time": "2022-11-05T11:50:11.313963",
     "exception": false,
     "start_time": "2022-11-05T11:50:11.297816",
     "status": "completed"
    },
    "tags": []
   },
   "outputs": [],
   "source": [
    "y = df['Outcome']\n",
    "X = df.drop('Outcome', axis=1)\n",
    "X_train, X_test, y_train, y_test = train_test_split(X, y, random_state=8888, stratify = df['Outcome'])\n",
    "cols = X.columns\n",
    "index = X.index"
   ]
  },
  {
   "cell_type": "markdown",
   "id": "a3d6ce83",
   "metadata": {
    "papermill": {
     "duration": 0.003525,
     "end_time": "2022-11-05T11:50:11.321404",
     "exception": false,
     "start_time": "2022-11-05T11:50:11.317879",
     "status": "completed"
    },
    "tags": []
   },
   "source": [
    "**Scaling**"
   ]
  },
  {
   "cell_type": "code",
   "execution_count": 6,
   "id": "6be56009",
   "metadata": {
    "execution": {
     "iopub.execute_input": "2022-11-05T11:50:11.330600Z",
     "iopub.status.busy": "2022-11-05T11:50:11.330103Z",
     "iopub.status.idle": "2022-11-05T11:50:11.341022Z",
     "shell.execute_reply": "2022-11-05T11:50:11.339591Z"
    },
    "papermill": {
     "duration": 0.018123,
     "end_time": "2022-11-05T11:50:11.343273",
     "exception": false,
     "start_time": "2022-11-05T11:50:11.325150",
     "status": "completed"
    },
    "tags": []
   },
   "outputs": [],
   "source": [
    "transformer = RobustScaler().fit(X)\n",
    "X = transformer.transform(X)\n",
    "X = pd.DataFrame(X, columns = cols, index = index)"
   ]
  },
  {
   "cell_type": "markdown",
   "id": "fbb5d507",
   "metadata": {
    "papermill": {
     "duration": 0.00335,
     "end_time": "2022-11-05T11:50:11.350373",
     "exception": false,
     "start_time": "2022-11-05T11:50:11.347023",
     "status": "completed"
    },
    "tags": []
   },
   "source": [
    "**Modeling**"
   ]
  },
  {
   "cell_type": "code",
   "execution_count": 7,
   "id": "8a657eb4",
   "metadata": {
    "execution": {
     "iopub.execute_input": "2022-11-05T11:50:11.360165Z",
     "iopub.status.busy": "2022-11-05T11:50:11.359622Z",
     "iopub.status.idle": "2022-11-05T11:50:11.368278Z",
     "shell.execute_reply": "2022-11-05T11:50:11.366884Z"
    },
    "papermill": {
     "duration": 0.015571,
     "end_time": "2022-11-05T11:50:11.370169",
     "exception": false,
     "start_time": "2022-11-05T11:50:11.354598",
     "status": "completed"
    },
    "tags": []
   },
   "outputs": [],
   "source": [
    "models = []\n",
    "\n",
    "models.append(('LR', LogisticRegression(random_state = 8888)))\n",
    "models.append(('KNN', KNeighborsClassifier()))\n",
    "models.append(('CART', DecisionTreeClassifier(random_state = 8888)))\n",
    "models.append(('RF', RandomForestClassifier(random_state = 8888)))\n",
    "models.append(('SVM', SVC(gamma='auto', random_state = 8888)))\n",
    "models.append(('XGB', GradientBoostingClassifier(random_state = 8888)))\n",
    "models.append((\"LightGBM\", LGBMClassifier(random_state = 8888)))\n",
    "\n",
    "# evaluate each model in turn\n",
    "results = []\n",
    "names = []"
   ]
  },
  {
   "cell_type": "code",
   "execution_count": 8,
   "id": "deed2391",
   "metadata": {
    "execution": {
     "iopub.execute_input": "2022-11-05T11:50:11.380287Z",
     "iopub.status.busy": "2022-11-05T11:50:11.379815Z",
     "iopub.status.idle": "2022-11-05T11:50:15.917402Z",
     "shell.execute_reply": "2022-11-05T11:50:15.916300Z"
    },
    "papermill": {
     "duration": 4.544972,
     "end_time": "2022-11-05T11:50:15.919405",
     "exception": false,
     "start_time": "2022-11-05T11:50:11.374433",
     "status": "completed"
    },
    "tags": []
   },
   "outputs": [
    {
     "name": "stdout",
     "output_type": "stream",
     "text": [
      "LR: 0.776042 (0.035798)\n",
      "KNN: 0.856801 (0.023846)\n",
      "CART: 0.847676 (0.031332)\n",
      "RF: 0.880280 (0.039987)\n",
      "SVM: 0.855434 (0.026476)\n",
      "XGB: 0.880297 (0.026837)\n",
      "LightGBM: 0.876367 (0.030136)\n"
     ]
    },
    {
     "data": {
      "image/png": "[encoded data removed]",
      "text/plain": [
       "<Figure size 1080x720 with 1 Axes>"
      ]
     },
     "metadata": {
      "needs_background": "light"
     },
     "output_type": "display_data"
    }
   ],
   "source": [
    "for name, model in models:\n",
    "        kfold = KFold(n_splits = 10, shuffle=True, random_state = 8888)\n",
    "        cv_results = cross_val_score(model, X, y, cv = 10, scoring= \"accuracy\")\n",
    "        results.append(cv_results)\n",
    "        names.append(name)\n",
    "        msg = \"%s: %f (%f)\" % (name, cv_results.mean(), cv_results.std())\n",
    "        print(msg)\n",
    "        \n",
    "# boxplot algorithm comparison\n",
    "fig = plt.figure(figsize=(15,10))\n",
    "fig.suptitle('Algorithm Comparison')\n",
    "ax = fig.add_subplot(111)\n",
    "plt.boxplot(results)\n",
    "ax.set_xticklabels(names)\n",
    "plt.show()"
   ]
  }
 ],
 "metadata": {
  "kernelspec": {
   "display_name": "Python 3",
   "language": "python",
   "name": "python3"
  },
  "language_info": {
   "codemirror_mode": {
    "name": "ipython",
    "version": 3
   },
   "file_extension": ".py",
   "mimetype": "text/x-python",
   "name": "python",
   "nbconvert_exporter": "python",
   "pygments_lexer": "ipython3",
   "version": "3.7.12"
  },
  "papermill": {
   "default_parameters": {},
   "duration": 17.956198,
   "end_time": "2022-11-05T11:50:16.745228",
   "environment_variables": {},
   "exception": null,
   "input_path": "__notebook__.ipynb",
   "output_path": "__notebook__.ipynb",
   "parameters": {},
   "start_time": "2022-11-05T11:49:58.789030",
   "version": "2.3.4"
  }
 },
 "nbformat": 4,
 "nbformat_minor": 5
}
